{
 "cells": [
  {
   "cell_type": "markdown",
   "metadata": {},
   "source": [
    "Question 1 - Write a Python program which accepts the radius of a circle from the user and compute the area"
   ]
  },
  {
   "cell_type": "code",
   "execution_count": 3,
   "metadata": {},
   "outputs": [
    {
     "name": "stdout",
     "output_type": "stream",
     "text": [
      "The area of the circle is 50.285714285714285\n"
     ]
    }
   ],
   "source": [
    "radius = eval(input(\"Please enter your radius \"))\n",
    "\n",
    "area_circle = (22 / 7) * radius * radius\n",
    "print(\"The area of the circle is\" + \" \" + str(area_circle)) "
   ]
  },
  {
   "cell_type": "markdown",
   "metadata": {},
   "source": [
    "Question 2 - Write a Python program which accepts the user's first and last name and print them in reverse order with a space between them."
   ]
  },
  {
   "cell_type": "code",
   "execution_count": 9,
   "metadata": {},
   "outputs": [
    {
     "name": "stdout",
     "output_type": "stream",
     "text": [
      "Alexander Brigitte\n"
     ]
    }
   ],
   "source": [
    "first_name = str(input(\"Please enter your first name\"))\n",
    "last_name = str(input(\"Please enter your last name\"))\n",
    "\n",
    "print(last_name + \" \" + first_name)"
   ]
  },
  {
   "cell_type": "markdown",
   "metadata": {},
   "source": [
    "Question 3 - Write a Python program to display the first and last colors from the following list."
   ]
  },
  {
   "cell_type": "code",
   "execution_count": 8,
   "metadata": {},
   "outputs": [
    {
     "name": "stdout",
     "output_type": "stream",
     "text": [
      "Red Black\n"
     ]
    }
   ],
   "source": [
    "color_list = [\"Red\",\"Green\",\"White\",\"Black\"]\n",
    "print(color_list[0] + \" \" + color_list[-1])"
   ]
  },
  {
   "cell_type": "markdown",
   "metadata": {},
   "source": [
    "Question 4 - Write a Python program that accepts an integer (n) and computes the value of n+nn+nnn."
   ]
  },
  {
   "cell_type": "code",
   "execution_count": 18,
   "metadata": {},
   "outputs": [
    {
     "name": "stdout",
     "output_type": "stream",
     "text": [
      "615\n"
     ]
    }
   ],
   "source": [
    "n = int(input(\"Enter your integer\" ))\n",
    "\n",
    "n_value = str(n)\n",
    "nn = n_value + n_value\n",
    "nnn = n_value + n_value + n_value\n",
    "sum = n + int(nn) + int(nnn)\n",
    "print(sum)"
   ]
  },
  {
   "cell_type": "markdown",
   "metadata": {},
   "source": [
    "Question 5 - Write a Python program to get the volume of a sphere with radius 6. The volume of the sphere is : V = 4/3 × π × r3 = π × d3/6."
   ]
  },
  {
   "cell_type": "code",
   "execution_count": 5,
   "metadata": {},
   "outputs": [
    {
     "name": "stdout",
     "output_type": "stream",
     "text": [
      "The volume of the sphere is 33.523809523809526\n"
     ]
    }
   ],
   "source": [
    "radius_5 = eval(input(\"Enter your radius \"))\n",
    "\n",
    "volume_sphere = (4/3 * 22/7 * radius_5 * radius_5 * radius_5)\n",
    "print(\"The volume of the sphere is\" + \" \" + str(volume_sphere))"
   ]
  },
  {
   "cell_type": "markdown",
   "metadata": {},
   "source": [
    "Question 6 - Write a Python program to get the difference between a given number and 17, if the number is greater than 17 return double the absolute difference."
   ]
  },
  {
   "cell_type": "code",
   "execution_count": 14,
   "metadata": {},
   "outputs": [
    {
     "name": "stdout",
     "output_type": "stream",
     "text": [
      "26\n"
     ]
    }
   ],
   "source": [
    "n = eval(input(\"Enter your 'n' value\" ))\n",
    "\n",
    "if n <= 17:\n",
    "    n_value = 17 - n\n",
    "    print(n_value)\n",
    "else:\n",
    "    nn_value = (n - 17) * 2\n",
    "    print(nn_value)"
   ]
  },
  {
   "cell_type": "markdown",
   "metadata": {},
   "source": [
    "Question 7 - Write a Python program to calculate the sum of three given numbers, if the values are equal then return thrice of their sum."
   ]
  },
  {
   "cell_type": "code",
   "execution_count": 6,
   "metadata": {},
   "outputs": [
    {
     "name": "stdout",
     "output_type": "stream",
     "text": [
      "9\n"
     ]
    }
   ],
   "source": [
    "x_value = eval(input(\"Enter your first value\" ))\n",
    "y_value = eval(input(\"Enter your second value\" ))\n",
    "z_value = eval(input(\"Enter your third value\" ))\n",
    "\n",
    "sum = x_value + y_value + z_value\n",
    "\n",
    "if x_value == y_value == z_value:\n",
    "    sum = sum * 3\n",
    "    print(sum)\n",
    "else:\n",
    "    sum = x_value + y_value + z_value\n",
    "    print(sum)"
   ]
  },
  {
   "cell_type": "markdown",
   "metadata": {},
   "source": [
    "Question 8 - Write a Python program to find whether a given number (accept from the user) is even or odd, print out an appropriate message to the user."
   ]
  },
  {
   "cell_type": "code",
   "execution_count": null,
   "metadata": {},
   "outputs": [],
   "source": [
    "value = eval(input(\"Enter your number \"))\n",
    "\n",
    "if value % 2:\n",
    "    print(\"Your number is an odd number\")\n",
    "else:\n",
    "    print(\"Your number is an even number\")"
   ]
  },
  {
   "cell_type": "markdown",
   "metadata": {},
   "source": [
    "Question 9 - Write a Python program to test whether a letter is a vowel or not."
   ]
  },
  {
   "cell_type": "code",
   "execution_count": null,
   "metadata": {},
   "outputs": [],
   "source": [
    "letter = str(input(\"Enter your letter\"))\n",
    "\n",
    "if letter == \"a\" or letter == \"e\" or letter == \"i\" or letter == \"o\" or letter == \"u\":\n",
    "    print(\"Your letter is a vowel\")\n",
    "else:\n",
    "    print(\"Your letter is not a vowel, hence a consonant\")"
   ]
  },
  {
   "cell_type": "markdown",
   "metadata": {},
   "source": [
    "Question 10 - Write a Python program to check whether a specified value is contained in a group of values."
   ]
  },
  {
   "cell_type": "code",
   "execution_count": 33,
   "metadata": {},
   "outputs": [
    {
     "name": "stdout",
     "output_type": "stream",
     "text": [
      "Your value does not exist in the list\n"
     ]
    }
   ],
   "source": [
    "list = [2,4,6,8,10]\n",
    "value = int(input(\"Enter a value \"))\n",
    "\n",
    "if value in list:\n",
    "    print(\"Your value exists in the list\")\n",
    "else:\n",
    "    print(\"Your value does not exist in the list\")"
   ]
  },
  {
   "cell_type": "markdown",
   "metadata": {},
   "source": [
    "Question 11 - Write a Python program to create a histogram from a given list of integers."
   ]
  },
  {
   "cell_type": "code",
   "execution_count": 3,
   "metadata": {},
   "outputs": [
    {
     "name": "stdout",
     "output_type": "stream",
     "text": [
      "xx\n",
      "xxxx\n",
      "xxxxxx\n",
      "xxxxxxxx\n"
     ]
    }
   ],
   "source": [
    "nlist = [2,4,6,8]\n",
    "\n",
    "for i in nlist:\n",
    "    print(i * 'x')"
   ]
  },
  {
   "cell_type": "markdown",
   "metadata": {},
   "source": [
    "Question 12 - Write a Python program to print all even numbers from a given numbers list in the same order."
   ]
  },
  {
   "cell_type": "code",
   "execution_count": 29,
   "metadata": {},
   "outputs": [
    {
     "name": "stdout",
     "output_type": "stream",
     "text": [
      "Even numbers in this list are: [386, 462, 418, 344, 236, 566, 978, 328, 162, 758, 918, 412, 566, 826, 248, 866, 950, 626, 104, 58, 512, 24, 892, 894, 742, 958]\n"
     ]
    }
   ],
   "source": [
    "numbers = [386, 462, 47, 418, 907, 344, 236, 375, 823, 566, 597, 978, 328, 615, 953, 345, 399, 162, 758, 219, 918, 237, 412, 566, 826, 248, 866, 950, 626, 949, 687, 217, 815, 67, 104, 58, 512, 24, 892, 894, 767, 553, 81, 379, 843, 831, 445, 742, 717, 958,743, 527]\n",
    "\n",
    "even = [even for even in numbers if even % 2 == 0]\n",
    "print(\"Even numbers in this list are:\", even)"
   ]
  },
  {
   "cell_type": "markdown",
   "metadata": {},
   "source": [
    "Question 13 - Write a Python program that will accept the base and height of a triangle and compute the area."
   ]
  },
  {
   "cell_type": "code",
   "execution_count": 32,
   "metadata": {},
   "outputs": [
    {
     "name": "stdout",
     "output_type": "stream",
     "text": [
      "The area of the triangle is 150.0\n"
     ]
    }
   ],
   "source": [
    "base = eval(input(\"Enter the base of the triangle\"))\n",
    "height = eval(input(\"Enter the height of the triangle\"))\n",
    "\n",
    "area = 1/2 * base * height\n",
    "print(\"The area of the triangle is\", area)"
   ]
  },
  {
   "cell_type": "markdown",
   "metadata": {},
   "source": [
    "Question 14 - Write a Python program to get the least common multiple (LCM) of two positive integers."
   ]
  },
  {
   "cell_type": "code",
   "execution_count": 6,
   "metadata": {},
   "outputs": [
    {
     "name": "stdout",
     "output_type": "stream",
     "text": [
      "None\n"
     ]
    }
   ],
   "source": [
    "x = int(input(\"Enter your first integer\" ))\n",
    "y = int(input(\"Enter your second integer\" ))\n",
    "\n",
    "from math import gcd\n",
    "def lcm(x, y):\n",
    " return (x * y) // gcd(x,y) \n",
    "\n",
    "print(lcm(x, y))"
   ]
  },
  {
   "cell_type": "markdown",
   "metadata": {},
   "source": [
    "Question 15 - Write a Python program to sum of three given integers. However, if two values are equal sum will be zero."
   ]
  },
  {
   "cell_type": "code",
   "execution_count": 2,
   "metadata": {},
   "outputs": [
    {
     "name": "stdout",
     "output_type": "stream",
     "text": [
      "Sum: 6\n"
     ]
    }
   ],
   "source": [
    "int1 = int(input(\"Enter your first integer \"))\n",
    "int2 = int(input(\"Enter your second integer \"))\n",
    "int3 = int(input(\"Enter your third integer \"))\n",
    "\n",
    "if int1 == int2 or int1 == int3 or int2 == int3:\n",
    "    sum = 0\n",
    "else:\n",
    "    sum = int1 + int2 + int3\n",
    "\n",
    "print(\"Sum:\", sum)"
   ]
  },
  {
   "cell_type": "markdown",
   "metadata": {},
   "source": [
    "Question 16 - Write a Python program to solve (x + y) * (x + y)."
   ]
  },
  {
   "cell_type": "code",
   "execution_count": 45,
   "metadata": {},
   "outputs": [
    {
     "name": "stdout",
     "output_type": "stream",
     "text": [
      "49\n"
     ]
    }
   ],
   "source": [
    "x = eval(input(\"Enter your x value \"))\n",
    "y = eval(input(\"Enter your y value \"))\n",
    "\n",
    "answer = (x+y) * (x+y)\n",
    "print(answer)"
   ]
  },
  {
   "cell_type": "markdown",
   "metadata": {},
   "source": [
    "Question 17 - Write a Python program to compute the future value of a specified principal amount, rate of interest, and a number of years."
   ]
  },
  {
   "cell_type": "code",
   "execution_count": 44,
   "metadata": {},
   "outputs": [
    {
     "name": "stdout",
     "output_type": "stream",
     "text": [
      "12722.79\n"
     ]
    }
   ],
   "source": [
    "amt = eval(input(\"Enter your AMT value \"))\n",
    "interest = eval(input(\"Enter your interest rate \"))\n",
    "years = eval(input(\"Enter your number of years \"))\n",
    "\n",
    "future_value = amt * ((1+(0.01 * interest)) ** years)\n",
    "print(round(future_value, 2))\n"
   ]
  },
  {
   "cell_type": "markdown",
   "metadata": {},
   "source": [
    "Question 18 - Write a Python program to compute the distance between the points (x1,y1) and (x2,y2)."
   ]
  },
  {
   "cell_type": "code",
   "execution_count": 42,
   "metadata": {},
   "outputs": [
    {
     "name": "stdout",
     "output_type": "stream",
     "text": [
      "10.0\n"
     ]
    }
   ],
   "source": [
    "import math\n",
    "x1 = eval(input(\"Enter your x1 value \"))\n",
    "y1 = eval(input(\"Enter your y1 value \"))\n",
    "x2 = eval(input(\"Enter your x2 value \"))\n",
    "y2 = eval(input(\"Enter your y2 value \"))\n",
    "\n",
    "distance = math.sqrt( ((x2-x1)**2)+((y2-y1)**2) )\n",
    "print(distance)"
   ]
  },
  {
   "cell_type": "markdown",
   "metadata": {},
   "source": [
    "Question 19 - Write a Python program to sum of the first n positive integers."
   ]
  },
  {
   "cell_type": "code",
   "execution_count": 23,
   "metadata": {},
   "outputs": [
    {
     "name": "stdout",
     "output_type": "stream",
     "text": [
      "Sum of the first 5 positive integers is 15\n"
     ]
    }
   ],
   "source": [
    "n = int(input(\"Enter an integer\" ))\n",
    "sum = int((n * (n+1))/2)\n",
    "\n",
    "print(\"Sum of the first\" , n , \"positive integers is\" , sum)"
   ]
  },
  {
   "cell_type": "markdown",
   "metadata": {},
   "source": [
    "Question 20 - Write a Python program to convert height (in feet and inches) to centimeters."
   ]
  },
  {
   "cell_type": "code",
   "execution_count": 4,
   "metadata": {},
   "outputs": [
    {
     "name": "stdout",
     "output_type": "stream",
     "text": [
      "Your height is 157.5 cm\n"
     ]
    }
   ],
   "source": [
    "feet = int(input(\"Enter ft value\" ))\n",
    "inch = eval(input(\"Enter inch value \"))\n",
    "\n",
    "inch += feet * 12\n",
    "cm = round(inch * 2.54, 1)\n",
    "\n",
    "print(\"Your height is\", cm, \"cm\")"
   ]
  },
  {
   "cell_type": "markdown",
   "metadata": {},
   "source": [
    "Question 21 - Write a Python program to calculate the hypotenuse of a right angled triangle."
   ]
  },
  {
   "cell_type": "code",
   "execution_count": 6,
   "metadata": {},
   "outputs": [
    {
     "name": "stdout",
     "output_type": "stream",
     "text": [
      "The hypotenuse of your triangle is 5.385164807134504\n"
     ]
    }
   ],
   "source": [
    "from math import sqrt\n",
    "a = eval(input(\"Enter the base of the triangle \"))\n",
    "b = eval(input(\"Enter the height of the triangle \"))\n",
    "\n",
    "hypotenuse = sqrt(a**2 + b**2)\n",
    "print(\"The hypotenuse of your triangle is\", hypotenuse)"
   ]
  },
  {
   "cell_type": "markdown",
   "metadata": {},
   "source": [
    "Question 22 - Write a Python program to calculate body mass index."
   ]
  },
  {
   "cell_type": "code",
   "execution_count": 10,
   "metadata": {},
   "outputs": [
    {
     "name": "stdout",
     "output_type": "stream",
     "text": [
      "Your body mass index is 31.249999999999993 therefore you are obese\n"
     ]
    }
   ],
   "source": [
    "weight = eval(input(\"Enter your weight in kilograms \"))\n",
    "height = eval(input(\"Enter your height in meters \"))\n",
    "\n",
    "bmi = weight/(height ** 2)\n",
    "print(\"Your body mass index is\", bmi, \"therefore you are\", end=\" \")\n",
    "\n",
    "if (bmi < 18.5):\n",
    "    print(\"underweight\")\n",
    " \n",
    "elif ( bmi >= 18.5 and bmi < 24.9):\n",
    "    print(\"healthy\")\n",
    " \n",
    "elif ( bmi >= 24.9 and bmi < 30):\n",
    "    print(\"overweight\")\n",
    " \n",
    "elif ( bmi >=30):\n",
    "    print(\"obese\")"
   ]
  },
  {
   "cell_type": "markdown",
   "metadata": {},
   "source": [
    "Question 23 - Write a Python program to calculate midpoints of a line."
   ]
  },
  {
   "cell_type": "code",
   "execution_count": 12,
   "metadata": {},
   "outputs": [
    {
     "name": "stdout",
     "output_type": "stream",
     "text": [
      "The midpoint of the line is 3.0 , 3.0\n"
     ]
    }
   ],
   "source": [
    "x1 = eval(input(\"Enter your x1 value \"))\n",
    "y1 = eval(input(\"Enter your y1 value \"))\n",
    "x2 = eval(input(\"Enter your x2 value \"))\n",
    "y2 = eval(input(\"Enter your y2 value \"))\n",
    "\n",
    "x_midpoint = (x1 + x2)/2\n",
    "y_midpoint = (y1 + y2)/2\n",
    "\n",
    "print(\"The midpoint of the line is\", x_midpoint, \",\", y_midpoint)"
   ]
  },
  {
   "cell_type": "markdown",
   "metadata": {},
   "source": [
    "Question 24 - Write a program which will find all such numbers which are divisible by 7 but are not a multiple of 5, between 2000 and 3200 (both included). The numbers obtained should be printed in a comma-separated sequence on a single line. Hints: Consider use range(#begin, #end) method\n"
   ]
  },
  {
   "cell_type": "code",
   "execution_count": 38,
   "metadata": {},
   "outputs": [
    {
     "name": "stdout",
     "output_type": "stream",
     "text": [
      "2002,2009,2016,2023,2037,2044,2051,2058,2072,2079,2086,2093,2107,2114,2121,2128,2142,2149,2156,2163,2177,2184,2191,2198,2212,2219,2226,2233,2247,2254,2261,2268,2282,2289,2296,2303,2317,2324,2331,2338,2352,2359,2366,2373,2387,2394,2401,2408,2422,2429,2436,2443,2457,2464,2471,2478,2492,2499,2506,2513,2527,2534,2541,2548,2562,2569,2576,2583,2597,2604,2611,2618,2632,2639,2646,2653,2667,2674,2681,2688,2702,2709,2716,2723,2737,2744,2751,2758,2772,2779,2786,2793,2807,2814,2821,2828,2842,2849,2856,2863,2877,2884,2891,2898,2912,2919,2926,2933,2947,2954,2961,2968,2982,2989,2996,3003,3017,3024,3031,3038,3052,3059,3066,3073,3087,3094,3101,3108,3122,3129,3136,3143,3157,3164,3171,3178,3192,3199\n"
     ]
    }
   ],
   "source": [
    "lists = []\n",
    "for i in range (2000, 3201):\n",
    "    if i % 7 == 0 and i % 5 != 0:\n",
    "        lists.append(str(i))\n",
    "\n",
    "print(','.join(lists))"
   ]
  }
 ],
 "metadata": {
  "kernelspec": {
   "display_name": "Python 3.10.7 64-bit",
   "language": "python",
   "name": "python3"
  },
  "language_info": {
   "codemirror_mode": {
    "name": "ipython",
    "version": 3
   },
   "file_extension": ".py",
   "mimetype": "text/x-python",
   "name": "python",
   "nbconvert_exporter": "python",
   "pygments_lexer": "ipython3",
   "version": "3.10.7"
  },
  "orig_nbformat": 4,
  "vscode": {
   "interpreter": {
    "hash": "aee8b7b246df8f9039afb4144a1f6fd8d2ca17a180786b69acc140d282b71a49"
   }
  }
 },
 "nbformat": 4,
 "nbformat_minor": 2
}
